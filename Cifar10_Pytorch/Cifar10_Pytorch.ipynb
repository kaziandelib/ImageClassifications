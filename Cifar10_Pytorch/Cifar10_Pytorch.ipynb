{
  "nbformat": 4,
  "nbformat_minor": 0,
  "metadata": {
    "colab": {
      "provenance": []
    },
    "kernelspec": {
      "name": "python3",
      "display_name": "Python 3"
    },
    "language_info": {
      "name": "python"
    }
  },
  "cells": [
    {
      "cell_type": "code",
      "source": [
        "# Uncomment if needed\n",
        "#!pip install numpy\n",
        "#!pip install pillow\n",
        "#!pip install torch\n",
        "#!pip install torchvision"
      ],
      "metadata": {
        "id": "v7KFRnkORAY9"
      },
      "execution_count": 1,
      "outputs": []
    },
    {
      "cell_type": "code",
      "source": [
        "# To import necessary libraries\n",
        "import numpy as np  # Library for numerical computations, especially with arrays\n",
        "import torch  # Main PyTorch library for tensor operations\n",
        "import torch.nn as nn  # Submodule of PyTorch for building neural network layers and structures\n",
        "import torch.nn.functional as F  # Functional interface for various neural network operations (like activation functions)\n",
        "import torch.optim as optim  # Submodule for optimization algorithms (e.g., SGD, Adam)\n",
        "import torchvision  # Library that provides tools for image datasets and transformations\n",
        "import torchvision.transforms as transforms  # Module for applying transformations to image datasets\n",
        "import matplotlib.pyplot as plt  # Library for plotting and visualizing data\n",
        "import urllib.request  # Module for opening and reading URLs\n",
        "from PIL import Image  # Python Imaging Library for opening, manipulating, and saving image files\n"
      ],
      "metadata": {
        "id": "v6q11XF8RAcF"
      },
      "execution_count": 2,
      "outputs": []
    },
    {
      "cell_type": "code",
      "source": [
        "# To create a series of transformations to be applied to images\n",
        "transform = transforms.Compose(\n",
        "    [\n",
        "        transforms.ToTensor(),  # To convert the image to a PyTorch tensor (scales pixel values to [0, 1])\n",
        "        # To normalize the tensor to have a mean of 0.5 and standard deviation of 0.5 for each color channel (RGB)\n",
        "        transforms.Normalize((0.5, 0.5, 0.5), (0.5, 0.5, 0.5))\n",
        "    ]\n",
        ")\n"
      ],
      "metadata": {
        "id": "ndgSvldIRAie"
      },
      "execution_count": 3,
      "outputs": []
    },
    {
      "cell_type": "code",
      "source": [
        "# To load the CIFAR-10 dataset for training\n",
        "train_data = torchvision.datasets.CIFAR10(\n",
        "    root='./data',  # To specify the directory where the dataset will be stored\n",
        "    train=True,     # To indicate that this is the training dataset\n",
        "    download=True,  # To download the dataset if it is not already available in the specified directory\n",
        "    transform=transform  # To apply the defined transformations (e.g., ToTensor, Normalize) to the images\n",
        ")\n",
        "\n",
        "# To load the CIFAR-10 dataset for testing\n",
        "test_data = torchvision.datasets.CIFAR10(\n",
        "    root='./data',  # To specify the directory for the dataset\n",
        "    train=False,    # To indicate that this is the testing dataset\n",
        "    download=True,  # To download the dataset if it is not already available\n",
        "    transform=transform  # To apply the same transformations to the test images\n",
        ")\n",
        "\n",
        "# To create a DataLoader for the training dataset to facilitate batch processing\n",
        "train_loader = torch.utils.data.DataLoader(\n",
        "    train_data,      # The dataset to load\n",
        "    batch_size=32,   # To specify the number of samples per batch\n",
        "    shuffle=True,    # To shuffle the data at every epoch to ensure randomness\n",
        "    num_workers=2    # To use 2 subprocesses for data loading to improve efficiency\n",
        ")\n",
        "\n",
        "# To create a DataLoader for the testing dataset\n",
        "test_loader = torch.utils.data.DataLoader(\n",
        "    test_data,       # The dataset to load\n",
        "    batch_size=32,   # To specify the number of samples per batch\n",
        "    shuffle=True,    # To shuffle the data to ensure randomness during testing\n",
        "    num_workers=2    # To use 2 subprocesses for data loading\n",
        ")\n"
      ],
      "metadata": {
        "colab": {
          "base_uri": "https://localhost:8080/"
        },
        "id": "iRHDCKPfTAta",
        "outputId": "4ba05b0e-cb2b-4d71-9124-3be30a5e113f"
      },
      "execution_count": 4,
      "outputs": [
        {
          "output_type": "stream",
          "name": "stdout",
          "text": [
            "Downloading https://www.cs.toronto.edu/~kriz/cifar-10-python.tar.gz to ./data/cifar-10-python.tar.gz\n"
          ]
        },
        {
          "output_type": "stream",
          "name": "stderr",
          "text": [
            "100%|██████████| 170M/170M [00:03<00:00, 43.9MB/s]\n"
          ]
        },
        {
          "output_type": "stream",
          "name": "stdout",
          "text": [
            "Extracting ./data/cifar-10-python.tar.gz to ./data\n",
            "Files already downloaded and verified\n"
          ]
        }
      ]
    },
    {
      "cell_type": "code",
      "source": [
        "# To retrieve the first image and its corresponding label from the training dataset\n",
        "image, label = train_data[0]  # 'train_data' is the CIFAR-10 dataset; this fetches the first item (image-label pair)\n",
        "\n",
        "# To get the size of the retrieved image tensor\n",
        "image.size()  # This will return the dimensions of the image tensor (e.g., [channels, height, width])\n"
      ],
      "metadata": {
        "colab": {
          "base_uri": "https://localhost:8080/"
        },
        "id": "ni17QqTpTAqD",
        "outputId": "8804b4f3-4336-4a78-db45-5461530e952a"
      },
      "execution_count": 5,
      "outputs": [
        {
          "output_type": "execute_result",
          "data": {
            "text/plain": [
              "torch.Size([3, 32, 32])"
            ]
          },
          "metadata": {},
          "execution_count": 5
        }
      ]
    },
    {
      "cell_type": "code",
      "source": [
        "# To define a list of class names corresponding to the labels in the CIFAR-10 dataset\n",
        "class_names = [\n",
        "    'plane',  # Class 0: airplane\n",
        "    'car',    # Class 1: automobile\n",
        "    'bird',   # Class 2: bird\n",
        "    'cat',    # Class 3: cat\n",
        "    'deer',   # Class 4: deer\n",
        "    'dog',    # Class 5: dog\n",
        "    'frog',   # Class 6: frog\n",
        "    'horse',  # Class 7: horse\n",
        "    'ship',   # Class 8: ship\n",
        "    'truck'   # Class 9: truck\n",
        "]"
      ],
      "metadata": {
        "id": "xp7yOskHTAnT"
      },
      "execution_count": 6,
      "outputs": []
    },
    {
      "cell_type": "code",
      "source": [
        "# Function to display a set of images with their corresponding labels\n",
        "def show_images(images, labels):\n",
        "    # To create a figure with subplots; one for each image\n",
        "    fig, axes = plt.subplots(1, len(images), figsize=(12, 3))  # 1 row, 'len(images)' columns\n",
        "\n",
        "    # To iterate through images, labels, and axes for plotting\n",
        "    for img, label, ax in zip(images, labels, axes):\n",
        "        # To convert the image tensor to a NumPy array, transpose dimensions, and undo normalization for display\n",
        "        ax.imshow(np.transpose(img.numpy(), (1, 2, 0)) * 0.5 + 0.5)\n",
        "        # To set the title of each subplot to the corresponding class name\n",
        "        ax.set_title(class_names[label])\n",
        "        # To turn off the axis for better visual presentation\n",
        "        ax.axis(\"off\")\n",
        "\n",
        "    # To show the figure with the images\n",
        "    plt.show()\n",
        "\n",
        "# To get an iterator for the training data loader\n",
        "data_iter = iter(train_loader)\n",
        "\n",
        "# To retrieve a batch of images and their corresponding labels from the training data\n",
        "images, labels = next(data_iter)\n",
        "\n",
        "# To display the first 5 images and their labels in the batch using the show_images function\n",
        "show_images(images[:5], labels[:5])\n"
      ],
      "metadata": {
        "colab": {
          "base_uri": "https://localhost:8080/",
          "height": 219
        },
        "id": "XYiPKlUhfrbA",
        "outputId": "d0d48093-4a66-49c1-ac75-fbb71bb759dc"
      },
      "execution_count": 7,
      "outputs": [
        {
          "output_type": "display_data",
          "data": {
            "text/plain": [
              "<Figure size 1200x300 with 5 Axes>"
            ],
            "image/png": "[encoded data removed]"
          },
          "metadata": {}
        }
      ]
    },
    {
      "cell_type": "code",
      "source": [
        "# To define a neural network class that inherits from nn.Module\n",
        "class NeuralNet(nn.Module):\n",
        "\n",
        "    def __init__(self):\n",
        "        # To initialize the parent class\n",
        "        super().__init__()\n",
        "\n",
        "        # First convolutional layer: takes 3 input channels (RGB), outputs 12 channels, with a 5x5 kernel\n",
        "        self.conv1 = nn.Conv2d(3, 12, 5)\n",
        "\n",
        "        # Max pooling layer: reduces the spatial dimensions by a factor of 2 (2x2 pooling)\n",
        "        self.pool = nn.MaxPool2d(2, 2)\n",
        "\n",
        "        # Second convolutional layer: takes 12 input channels, outputs 24 channels, with a 5x5 kernel\n",
        "        self.conv2 = nn.Conv2d(12, 24, 5)\n",
        "\n",
        "        # To define fully connected layers:\n",
        "        # First fully connected layer: flattens the output of the last convolutional layer\n",
        "        # 24 channels, each 5x5 spatial dimensions, results in 24 * 5 * 5 = 600 inputs to this layer\n",
        "        self.fc1 = nn.Linear(24 * 5 * 5, 120)\n",
        "\n",
        "        # Second fully connected layer: takes 120 inputs and outputs 96\n",
        "        self.fc2 = nn.Linear(120, 98)\n",
        "\n",
        "        # Third fully connected layer: takes 96 inputs and outputs 10 (number of classes in CIFAR-10)\n",
        "        self.fc3 = nn.Linear(98, 10)\n",
        "\n",
        "    # To define the forward pass through the network\n",
        "    def forward(self, x):\n",
        "        # Apply the first convolutional layer, followed by ReLU activation, and then max pooling\n",
        "        x = self.pool(F.relu(self.conv1(x)))\n",
        "\n",
        "        # To apply the second convolutional layer, followed by ReLU activation, and then max pooling\n",
        "        x = self.pool(F.relu(self.conv2(x)))\n",
        "\n",
        "        # To flatten the tensor to feed into the fully connected layers (batch size remains)\n",
        "        x = torch.flatten(x, 1)  # To flatten all dimensions except batch\n",
        "\n",
        "        # To apply the first fully connected layer, followed by ReLU activation\n",
        "        x = F.relu(self.fc1(x))\n",
        "\n",
        "        # To apply the second fully connected layer, followed by ReLU activation\n",
        "        x = F.relu(self.fc2(x))\n",
        "\n",
        "        # To apply the third fully connected layer (final output layer)\n",
        "        x = self.fc3(x)\n",
        "\n",
        "        # To return the output of the network (logits for each class)\n",
        "        return x"
      ],
      "metadata": {
        "id": "oH-JfVz4cl-d"
      },
      "execution_count": 8,
      "outputs": []
    },
    {
      "cell_type": "code",
      "source": [
        "# To instantiate the neural network model\n",
        "net = NeuralNet()  # To create an instance of the NeuralNet class defined earlier\n",
        "\n",
        "# To define the loss function for multi-class classification\n",
        "loss_function = nn.CrossEntropyLoss()\n",
        "# This loss function combines softmax and negative log-likelihood loss, suitable for classification tasks\n",
        "\n",
        "# To set up the optimizer for updating the model's weights\n",
        "optimizer = optim.SGD(\n",
        "    net.parameters(),  # To pass the parameters of the neural network to the optimizer\n",
        "    lr=0.001,         # Learning rate: controls how much to adjust the weights during optimization\n",
        "    momentum=0.9      # Momentum: helps accelerate gradients vectors in the right directions, improving convergence speed\n",
        ")\n"
      ],
      "metadata": {
        "id": "scLJZz61UTFB"
      },
      "execution_count": 9,
      "outputs": []
    },
    {
      "cell_type": "code",
      "source": [
        "# To train the neural network for a specified number of epochs\n",
        "for epoch in range(40):  # To loop over the dataset multiple times (32 epochs)\n",
        "    print(f'Training epoch {epoch}...')  # To print the current epoch number\n",
        "    running_loss = 0.0  # To initialize the total loss for this epoch\n",
        "\n",
        "    # To iterate over the training data loader\n",
        "    for i, data in enumerate(train_loader):\n",
        "        inputs, labels = data  # To get the inputs (images) and labels (targets) from the current batch\n",
        "\n",
        "        optimizer.zero_grad()  # Zero the gradients of the model parameters to prevent accumulation\n",
        "        outputs = net(inputs)  # Forward pass: compute predicted outputs by passing inputs through the network\n",
        "\n",
        "        loss = loss_function(outputs, labels)  # To compute the loss by comparing outputs to the true labels\n",
        "        loss.backward()  # Backward pass: compute gradients of the loss with respect to model parameters\n",
        "        optimizer.step()  # To update model parameters using the computed gradients\n",
        "\n",
        "        running_loss += loss.item()  # To accumulate the loss for the current batch\n",
        "\n",
        "    # To print the average loss for the epoch (total loss divided by number of batches)\n",
        "    print(f'Loss: {running_loss/len(train_loader):.5f}')\n"
      ],
      "metadata": {
        "colab": {
          "base_uri": "https://localhost:8080/"
        },
        "id": "E_AD2DUiUTBr",
        "outputId": "92eb356e-4493-4314-c062-8e3b8bedb3fd"
      },
      "execution_count": 10,
      "outputs": [
        {
          "output_type": "stream",
          "name": "stdout",
          "text": [
            "Training epoch 0...\n",
            "Loss: 2.22947\n",
            "Training epoch 1...\n",
            "Loss: 1.77593\n",
            "Training epoch 2...\n",
            "Loss: 1.51207\n",
            "Training epoch 3...\n",
            "Loss: 1.38509\n",
            "Training epoch 4...\n",
            "Loss: 1.28635\n",
            "Training epoch 5...\n",
            "Loss: 1.20962\n",
            "Training epoch 6...\n",
            "Loss: 1.14193\n",
            "Training epoch 7...\n",
            "Loss: 1.07888\n",
            "Training epoch 8...\n",
            "Loss: 1.03233\n",
            "Training epoch 9...\n",
            "Loss: 0.98530\n",
            "Training epoch 10...\n",
            "Loss: 0.94475\n",
            "Training epoch 11...\n",
            "Loss: 0.90618\n",
            "Training epoch 12...\n",
            "Loss: 0.86676\n",
            "Training epoch 13...\n",
            "Loss: 0.83527\n",
            "Training epoch 14...\n",
            "Loss: 0.80164\n",
            "Training epoch 15...\n",
            "Loss: 0.77282\n",
            "Training epoch 16...\n",
            "Loss: 0.74045\n",
            "Training epoch 17...\n",
            "Loss: 0.71573\n",
            "Training epoch 18...\n",
            "Loss: 0.66435\n",
            "Training epoch 20...\n",
            "Loss: 0.63468\n",
            "Training epoch 21...\n",
            "Loss: 0.61173\n",
            "Training epoch 22...\n",
            "Loss: 0.58985\n",
            "Training epoch 23...\n",
            "Loss: 0.56355\n",
            "Training epoch 24...\n",
            "Loss: 0.53768\n",
            "Training epoch 25...\n",
            "Loss: 0.52102\n",
            "Training epoch 26...\n",
            "Loss: 0.49632\n",
            "Training epoch 27...\n",
            "Loss: 0.47413\n",
            "Training epoch 28...\n",
            "Loss: 0.45441\n",
            "Training epoch 29...\n",
            "Loss: 0.43521\n",
            "Training epoch 30...\n",
            "Loss: 0.41365\n",
            "Training epoch 31...\n",
            "Loss: 0.39655\n",
            "Training epoch 32...\n",
            "Loss: 0.37801\n",
            "Training epoch 33...\n",
            "Loss: 0.35896\n",
            "Training epoch 34...\n",
            "Loss: 0.34108\n",
            "Training epoch 35...\n",
            "Loss: 0.32059\n",
            "Training epoch 36...\n",
            "Loss: 0.30901\n",
            "Training epoch 37...\n",
            "Loss: 0.28967\n",
            "Training epoch 38...\n",
            "Loss: 0.27798\n",
            "Training epoch 39...\n",
            "Loss: 0.26262\n"
          ]
        }
      ]
    },
    {
      "cell_type": "code",
      "source": [
        "# To save the trained model's state dictionary (weights and biases)\n",
        "torch.save(net.state_dict(), 'trained_net.pth')\n",
        "# 'net.state_dict()' retrieves the model parameters (weights and biases) for all layers\n",
        "# 'trained_net.pth' is the filename where the model parameters will be saved\n",
        "# This file can be used later to load the model for inference or further training"
      ],
      "metadata": {
        "id": "aKuT1vnvjm7Y"
      },
      "execution_count": 11,
      "outputs": []
    },
    {
      "cell_type": "code",
      "source": [
        "# To instantiate a new instance of the NeuralNet model\n",
        "net = NeuralNet()\n",
        "\n",
        "# To load the previously saved model parameters (weights and biases) into the neural network\n",
        "net.load_state_dict(torch.load('trained_net.pth'))\n",
        "# 'torch.load()' reads the saved state dictionary from the specified file ('trained_net.pth')\n",
        "# 'load_state_dict()' updates the model with the loaded parameters, allowing the model to be used for inference or further training\n"
      ],
      "metadata": {
        "colab": {
          "base_uri": "https://localhost:8080/"
        },
        "id": "5LIF6I7XjqgD",
        "outputId": "02a0017a-c728-4efa-818a-7ef3b108a332"
      },
      "execution_count": 12,
      "outputs": [
        {
          "output_type": "stream",
          "name": "stderr",
          "text": [
            "<ipython-input-12-dd3aafea2970>:5: FutureWarning: You are using `torch.load` with `weights_only=False` (the current default value), which uses the default pickle module implicitly. It is possible to construct malicious pickle data which will execute arbitrary code during unpickling (See https://github.com/pytorch/pytorch/blob/main/SECURITY.md#untrusted-models for more details). In a future release, the default value for `weights_only` will be flipped to `True`. This limits the functions that could be executed during unpickling. Arbitrary objects will no longer be allowed to be loaded via this mode unless they are explicitly allowlisted by the user via `torch.serialization.add_safe_globals`. We recommend you start setting `weights_only=True` for any use case where you don't have full control of the loaded file. Please open an issue on GitHub for any issues related to this experimental feature.\n",
            "  net.load_state_dict(torch.load('trained_net.pth'))\n"
          ]
        },
        {
          "output_type": "execute_result",
          "data": {
            "text/plain": [
              "<All keys matched successfully>"
            ]
          },
          "metadata": {},
          "execution_count": 12
        }
      ]
    },
    {
      "cell_type": "code",
      "source": [
        "# To initialize counters for correct predictions and total number of samples\n",
        "correct = 0\n",
        "total = 0\n",
        "\n",
        "# To set the model to evaluation mode (disables dropout and batch normalization)\n",
        "net.eval()\n",
        "\n",
        "# To disable gradient computation for inference to reduce memory consumption and improve speed\n",
        "with torch.no_grad():\n",
        "    # To iterate over the test data loader\n",
        "    for data in test_loader:\n",
        "        images, labels = data  # To get the images and corresponding labels from the test batch\n",
        "\n",
        "        # Forward pass: compute predicted outputs by passing images through the network\n",
        "        outputs = net(images)\n",
        "\n",
        "        # To get the predicted class by finding the index of the maximum log-probability\n",
        "        _, predicted = torch.max(outputs, 1)\n",
        "\n",
        "        # To update the total count of samples processed\n",
        "        total += labels.size(0)\n",
        "\n",
        "        # To count the number of correct predictions by comparing predicted and true labels\n",
        "        correct += (predicted == labels).sum().item()\n",
        "\n",
        "# To calculate the accuracy as the percentage of correctly predicted samples\n",
        "accuracy = 100 * correct / total\n",
        "\n",
        "# To print the accuracy of the model on the test dataset\n",
        "print(f'Accuracy: {accuracy}%')\n"
      ],
      "metadata": {
        "colab": {
          "base_uri": "https://localhost:8080/"
        },
        "id": "ay5dT1Oxjqcp",
        "outputId": "e83c3369-3e74-48e2-d707-ed86252c465c"
      },
      "execution_count": 13,
      "outputs": [
        {
          "output_type": "stream",
          "name": "stdout",
          "text": [
            "Accuracy: 66.86%\n"
          ]
        }
      ]
    },
    {
      "cell_type": "code",
      "source": [
        "# To define URLs for images to be predicted\n",
        "url1 = \"https://images.pexels.com/photos/1170986/pexels-photo-1170986.jpeg?auto=compress&cs=tinysrgb&w=1260&h=750&dpr=1\"  # URL for a cat image\n",
        "url2 = \"https://images.pexels.com/photos/46148/aircraft-jet-landing-cloud-46148.jpeg?auto=compress&cs=tinysrgb&w=1260&h=750&dpr=1\"  # URL for a plane image\n",
        "url3 = \"https://images.pexels.com/photos/825947/pexels-photo-825947.jpeg?auto=compress&cs=tinysrgb&w=1260&h=750&dpr=1\"  # URL for a dog image\n",
        "\n",
        "# To define a transform to preprocess the images before passing them to the model\n",
        "new_transform = transforms.Compose([\n",
        "    transforms.Resize((32, 32)),  # To resize the image to 32x32 pixels to match the input size of the model\n",
        "    transforms.ToTensor(),          # To convert the image to a PyTorch tensor\n",
        "    transforms.Normalize((0.5, 0.5, 0.5), (0.5, 0.5, 0.5))  # To normalize the image with mean and std deviation\n",
        "])\n",
        "\n",
        "def load_img(image_url):\n",
        "    # To set up a request with a user-agent header to avoid blocking\n",
        "    req = urllib.request.Request(image_url, headers={'User-Agent': 'Mozilla/5.0'})\n",
        "    with urllib.request.urlopen(req) as url_response:  # To open the URL and retrieve the image\n",
        "        image = Image.open(url_response)  # To open the image from the URL response\n",
        "        image = new_transform(image)  # To apply the defined transformations to the image\n",
        "        image = image.unsqueeze(0)  # To add a batch dimension (1, 3, 32, 32) for the model input\n",
        "    return image  # To aeturn the preprocessed image\n",
        "\n",
        "# To create a list of image URLs to be predicted\n",
        "image_paths = [url1, url2, url3]  # To add URLs as needed\n",
        "images = [load_img(img) for img in image_paths]  # To load and preprocess each image URL\n",
        "\n",
        "# To set the model to evaluation mode (disables dropout and batch normalization)\n",
        "net.eval()\n",
        "with torch.no_grad():  # To disable gradient computation for inference\n",
        "    # To iterate through the preprocessed images\n",
        "    for image in images:\n",
        "        output = net(image)  # Forward pass: get the model's output for the image\n",
        "        _, predicted = torch.max(output, 1)  # To get the predicted class index with the highest score\n",
        "        # To print the predicted class name based on the predicted index\n",
        "        print(f\"Prediction: {class_names[predicted.item()]}\")"
      ],
      "metadata": {
        "colab": {
          "base_uri": "https://localhost:8080/"
        },
        "id": "RyOisZ7QoPFx",
        "outputId": "6ba91b88-82e6-4176-92fa-2e52864f8807"
      },
      "execution_count": 14,
      "outputs": [
        {
          "output_type": "stream",
          "name": "stdout",
          "text": [
            "Prediction: truck\n",
            "Prediction: plane\n",
            "Prediction: dog\n"
          ]
        }
      ]
    }
  ]
}